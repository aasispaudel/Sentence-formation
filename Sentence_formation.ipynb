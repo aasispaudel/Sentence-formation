{
 "cells": [
  {
   "cell_type": "code",
   "execution_count": 4,
   "metadata": {},
   "outputs": [
    {
     "data": {
      "text/plain": [
       "(68, array([[ 0,  0,  0, ...,  0,  5,  9],\n",
       "        [ 0,  0,  0, ...,  5,  9,  1],\n",
       "        [ 0,  0,  0, ...,  9,  1,  2],\n",
       "        ...,\n",
       "        [47, 48,  6, ..., 63, 64, 65],\n",
       "        [ 0,  0,  0, ...,  0, 66,  3],\n",
       "        [ 0,  0,  0, ..., 66,  3, 67]], dtype=int32))"
      ]
     },
     "execution_count": 4,
     "metadata": {},
     "output_type": "execute_result"
    }
   ],
   "source": [
    "raw_text = '''\n",
    "Dorothy watched the rhino. \n",
    "It sniffed the pumpkin. She sneezed. \n",
    "The rhino raised its head. Snorted. Dorothy waved. \n",
    "The rhino pawed the earth. She threw a high heel. It hit the rhino. \n",
    "The rhino ate the shoe. She yelled, “Hey!” Stomped her foot. Insecure? \n",
    "Don’t worry; you’re not alone. However, stay that way and you’ll never accomplish anything of significance. \n",
    "Fortunately, there’s a book called Insecure No\n",
    "More, which will teach you how to be confident and courageous in just 30 days. Buy it now.\n",
    "'''\n",
    "    \n",
    "from keras.preprocessing.text import Tokenizer\n",
    "tokenizer = Tokenizer()\n",
    "raw_text_split = raw_text.lower().split('.')\n",
    "tokenizer.fit_on_texts(raw_text_split)\n",
    "\n",
    "sequential = []\n",
    "for sent in raw_text_split:\n",
    "    non_sequential = tokenizer.texts_to_sequences([sent])[0]\n",
    "    \n",
    "    if non_sequential:\n",
    "        for i in range(1, len(non_sequential)):\n",
    "            sequential.append(non_sequential[:(i+1)])\n",
    "            \n",
    "from keras.preprocessing.sequence import pad_sequences\n",
    "max_len_sentence = max([len(i) for i in sequential])\n",
    "uniform_data = pad_sequences(sequential, maxlen=max_len_sentence)\n",
    "\n",
    "vocab_size = len(tokenizer.word_index) + 1\n",
    "vocab_size, uniform_data"
   ]
  },
  {
   "cell_type": "code",
   "execution_count": 47,
   "metadata": {},
   "outputs": [],
   "source": [
    "from keras.models import Sequential\n",
    "from keras.layers import Embedding, Dense, LSTM, Dropout\n",
    "from keras.callbacks import TensorBoard\n",
    "import time\n",
    "\n",
    "model = Sequential()\n",
    "\n",
    "NAME_MODEL = f'sentence-formation=>{time.time()}'\n",
    "\n",
    "model.add(Embedding(vocab_size, 10))\n",
    "\n",
    "model.add(LSTM(128, return_sequences=True, activation='relu'))\n",
    "#model.add(Dropout(0.2))\n",
    "\n",
    "model.add(LSTM(64))\n",
    "\n",
    "model.add(Dense(vocab_size, activation='softmax'))\n",
    "\n",
    "tensorboard = TensorBoard('./logs/{}'.format(NAME_MODEL))\n",
    "\n",
    "model.compile(loss='sparse_categorical_crossentropy',\n",
    "              optimizer='adam',\n",
    "             metrics=['accuracy'])"
   ]
  },
  {
   "cell_type": "code",
   "execution_count": 48,
   "metadata": {},
   "outputs": [],
   "source": [
    "x_train, y_train = uniform_data[:, :-1], uniform_data[:, -1]"
   ]
  },
  {
   "cell_type": "code",
   "execution_count": 49,
   "metadata": {},
   "outputs": [
    {
     "name": "stdout",
     "output_type": "stream",
     "text": [
      "Epoch 1/120\n",
      "Epoch 2/120\n",
      "Epoch 3/120\n",
      "Epoch 4/120\n",
      "Epoch 5/120\n",
      "Epoch 6/120\n",
      "Epoch 7/120\n",
      "Epoch 8/120\n",
      "Epoch 9/120\n",
      "Epoch 10/120\n",
      "Epoch 11/120\n",
      "Epoch 12/120\n",
      "Epoch 13/120\n",
      "Epoch 14/120\n",
      "Epoch 15/120\n",
      "Epoch 16/120\n",
      "Epoch 17/120\n",
      "Epoch 18/120\n",
      "Epoch 19/120\n",
      "Epoch 20/120\n",
      "Epoch 21/120\n",
      "Epoch 22/120\n",
      "Epoch 23/120\n",
      "Epoch 24/120\n",
      "Epoch 25/120\n",
      "Epoch 26/120\n",
      "Epoch 27/120\n",
      "Epoch 28/120\n",
      "Epoch 29/120\n",
      "Epoch 30/120\n",
      "Epoch 31/120\n",
      "Epoch 32/120\n",
      "Epoch 33/120\n",
      "Epoch 34/120\n",
      "Epoch 35/120\n",
      "Epoch 36/120\n",
      "Epoch 37/120\n",
      "Epoch 38/120\n",
      "Epoch 39/120\n",
      "Epoch 40/120\n",
      "Epoch 41/120\n",
      "Epoch 42/120\n",
      "Epoch 43/120\n",
      "Epoch 44/120\n",
      "Epoch 45/120\n",
      "Epoch 46/120\n",
      "Epoch 47/120\n",
      "Epoch 48/120\n",
      "Epoch 49/120\n",
      "Epoch 50/120\n",
      "Epoch 51/120\n",
      "Epoch 52/120\n",
      "Epoch 53/120\n",
      "Epoch 54/120\n",
      "Epoch 55/120\n",
      "Epoch 56/120\n",
      "Epoch 57/120\n",
      "Epoch 58/120\n",
      "Epoch 59/120\n",
      "Epoch 60/120\n",
      "Epoch 61/120\n",
      "Epoch 62/120\n",
      "Epoch 63/120\n",
      "Epoch 64/120\n",
      "Epoch 65/120\n",
      "Epoch 66/120\n",
      "Epoch 67/120\n",
      "Epoch 68/120\n",
      "Epoch 69/120\n",
      "Epoch 70/120\n",
      "Epoch 71/120\n",
      "Epoch 72/120\n",
      "Epoch 73/120\n",
      "Epoch 74/120\n",
      "Epoch 75/120\n",
      "Epoch 76/120\n",
      "Epoch 77/120\n",
      "Epoch 78/120\n",
      "Epoch 79/120\n",
      "Epoch 80/120\n",
      "Epoch 81/120\n",
      "Epoch 82/120\n",
      "Epoch 83/120\n",
      "Epoch 84/120\n",
      "Epoch 85/120\n",
      "Epoch 86/120\n",
      "Epoch 87/120\n",
      "Epoch 88/120\n",
      "Epoch 89/120\n",
      "Epoch 90/120\n",
      "Epoch 91/120\n",
      "Epoch 92/120\n",
      "Epoch 93/120\n",
      "Epoch 94/120\n",
      "Epoch 95/120\n",
      "Epoch 96/120\n",
      "Epoch 97/120\n",
      "Epoch 98/120\n",
      "Epoch 99/120\n",
      "Epoch 100/120\n",
      "Epoch 101/120\n",
      "Epoch 102/120\n",
      "Epoch 103/120\n",
      "Epoch 104/120\n",
      "Epoch 105/120\n",
      "Epoch 106/120\n",
      "Epoch 107/120\n",
      "Epoch 108/120\n",
      "Epoch 109/120\n",
      "Epoch 110/120\n",
      "Epoch 111/120\n",
      "Epoch 112/120\n",
      "Epoch 113/120\n",
      "Epoch 114/120\n",
      "Epoch 115/120\n",
      "Epoch 116/120\n",
      "Epoch 117/120\n",
      "Epoch 118/120\n",
      "Epoch 119/120\n",
      "Epoch 120/120\n"
     ]
    },
    {
     "data": {
      "text/plain": [
       "<keras.callbacks.History at 0x7fc6a12b6940>"
      ]
     },
     "execution_count": 49,
     "metadata": {},
     "output_type": "execute_result"
    }
   ],
   "source": [
    "model.fit(x_train, y_train, callbacks=[tensorboard], epochs=120, verbose=3)"
   ]
  },
  {
   "cell_type": "code",
   "execution_count": 46,
   "metadata": {},
   "outputs": [
    {
     "name": "stdout",
     "output_type": "stream",
     "text": [
      "71/71 [==============================] - 1s 12ms/step\n"
     ]
    },
    {
     "data": {
      "text/plain": [
       "[3.1741566557279777, 0.09859154929577464]"
      ]
     },
     "execution_count": 46,
     "metadata": {},
     "output_type": "execute_result"
    }
   ],
   "source": [
    "model.evaluate(x_train, y_train)"
   ]
  },
  {
   "cell_type": "code",
   "execution_count": 50,
   "metadata": {},
   "outputs": [],
   "source": [
    "def generate_text(seed_text, next_words):\n",
    "    for _ in range(next_words):\n",
    "        token_list = tokenizer.texts_to_sequences([seed_text])[0]\n",
    "        token_list = pad_sequences([token_list], padding='pre')\n",
    "        predicted = model.predict_classes(token_list, verbose=0)\n",
    "\n",
    "        output_word = \"\"\n",
    "        for word, index in tokenizer.word_index.items():\n",
    "            if index == predicted:\n",
    "                output_word = word\n",
    "                break\n",
    "        seed_text += \" \" + output_word\n",
    "    return seed_text"
   ]
  },
  {
   "cell_type": "code",
   "execution_count": 51,
   "metadata": {},
   "outputs": [
    {
     "data": {
      "text/plain": [
       "'The rhino the the the'"
      ]
     },
     "execution_count": 51,
     "metadata": {},
     "output_type": "execute_result"
    }
   ],
   "source": [
    "generate_text('The rhino', 3)"
   ]
  },
  {
   "cell_type": "code",
   "execution_count": null,
   "metadata": {},
   "outputs": [],
   "source": []
  }
 ],
 "metadata": {
  "kernelspec": {
   "display_name": "Python 3",
   "language": "python",
   "name": "python3"
  },
  "language_info": {
   "codemirror_mode": {
    "name": "ipython",
    "version": 3
   },
   "file_extension": ".py",
   "mimetype": "text/x-python",
   "name": "python",
   "nbconvert_exporter": "python",
   "pygments_lexer": "ipython3",
   "version": "3.6.5"
  }
 },
 "nbformat": 4,
 "nbformat_minor": 2
}
